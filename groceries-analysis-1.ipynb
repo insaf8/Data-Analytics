{
 "cells": [
  {
   "cell_type": "code",
   "execution_count": 1,
   "id": "35dc94e8",
   "metadata": {
    "execution": {
     "iopub.execute_input": "2023-12-12T18:24:55.526651Z",
     "iopub.status.busy": "2023-12-12T18:24:55.525789Z",
     "iopub.status.idle": "2023-12-12T18:24:56.261242Z",
     "shell.execute_reply": "2023-12-12T18:24:56.260379Z"
    },
    "papermill": {
     "duration": 0.743726,
     "end_time": "2023-12-12T18:24:56.263622",
     "exception": false,
     "start_time": "2023-12-12T18:24:55.519896",
     "status": "completed"
    },
    "tags": []
   },
   "outputs": [],
   "source": [
    "import pandas as pd\n",
    "import numpy as np\n",
    "import sys\n",
    "from itertools import combinations, groupby\n",
    "from collections import Counter\n",
    "from IPython.display import display\n",
    "import zipfile"
   ]
  },
  {
   "cell_type": "code",
   "execution_count": 2,
   "id": "511efb71",
   "metadata": {
    "execution": {
     "iopub.execute_input": "2023-12-12T18:24:56.273740Z",
     "iopub.status.busy": "2023-12-12T18:24:56.273352Z",
     "iopub.status.idle": "2023-12-12T18:24:56.277721Z",
     "shell.execute_reply": "2023-12-12T18:24:56.276911Z"
    },
    "papermill": {
     "duration": 0.011349,
     "end_time": "2023-12-12T18:24:56.279716",
     "exception": false,
     "start_time": "2023-12-12T18:24:56.268367",
     "status": "completed"
    },
    "tags": []
   },
   "outputs": [],
   "source": [
    "# Function that returns the size of an object in MB\n",
    "def size(obj):\n",
    "    return \"{0:.2f} MB\".format(sys.getsizeof(obj) / (1000 * 1000))"
   ]
  },
  {
   "cell_type": "code",
   "execution_count": 3,
   "id": "0a46fa08",
   "metadata": {
    "execution": {
     "iopub.execute_input": "2023-12-12T18:24:56.288827Z",
     "iopub.status.busy": "2023-12-12T18:24:56.288549Z",
     "iopub.status.idle": "2023-12-12T18:24:56.422304Z",
     "shell.execute_reply": "2023-12-12T18:24:56.421397Z"
    },
    "papermill": {
     "duration": 0.140833,
     "end_time": "2023-12-12T18:24:56.424604",
     "exception": false,
     "start_time": "2023-12-12T18:24:56.283771",
     "status": "completed"
    },
    "tags": []
   },
   "outputs": [
    {
     "data": {
      "text/html": [
       "<div>\n",
       "<style scoped>\n",
       "    .dataframe tbody tr th:only-of-type {\n",
       "        vertical-align: middle;\n",
       "    }\n",
       "\n",
       "    .dataframe tbody tr th {\n",
       "        vertical-align: top;\n",
       "    }\n",
       "\n",
       "    .dataframe thead th {\n",
       "        text-align: right;\n",
       "    }\n",
       "</style>\n",
       "<table border=\"1\" class=\"dataframe\">\n",
       "  <thead>\n",
       "    <tr style=\"text-align: right;\">\n",
       "      <th></th>\n",
       "      <th>product_id</th>\n",
       "      <th>product_name</th>\n",
       "      <th>aisle_id</th>\n",
       "      <th>department_id</th>\n",
       "    </tr>\n",
       "  </thead>\n",
       "  <tbody>\n",
       "    <tr>\n",
       "      <th>0</th>\n",
       "      <td>1</td>\n",
       "      <td>Chocolate Sandwich Cookies</td>\n",
       "      <td>61</td>\n",
       "      <td>19</td>\n",
       "    </tr>\n",
       "    <tr>\n",
       "      <th>1</th>\n",
       "      <td>2</td>\n",
       "      <td>All-Seasons Salt</td>\n",
       "      <td>104</td>\n",
       "      <td>13</td>\n",
       "    </tr>\n",
       "    <tr>\n",
       "      <th>2</th>\n",
       "      <td>3</td>\n",
       "      <td>Robust Golden Unsweetened Oolong Tea</td>\n",
       "      <td>94</td>\n",
       "      <td>7</td>\n",
       "    </tr>\n",
       "    <tr>\n",
       "      <th>3</th>\n",
       "      <td>4</td>\n",
       "      <td>Smart Ones Classic Favorites Mini Rigatoni Wit...</td>\n",
       "      <td>38</td>\n",
       "      <td>1</td>\n",
       "    </tr>\n",
       "    <tr>\n",
       "      <th>4</th>\n",
       "      <td>5</td>\n",
       "      <td>Green Chile Anytime Sauce</td>\n",
       "      <td>5</td>\n",
       "      <td>13</td>\n",
       "    </tr>\n",
       "  </tbody>\n",
       "</table>\n",
       "</div>"
      ],
      "text/plain": [
       "   product_id                                       product_name  aisle_id  \\\n",
       "0           1                         Chocolate Sandwich Cookies        61   \n",
       "1           2                                   All-Seasons Salt       104   \n",
       "2           3               Robust Golden Unsweetened Oolong Tea        94   \n",
       "3           4  Smart Ones Classic Favorites Mini Rigatoni Wit...        38   \n",
       "4           5                          Green Chile Anytime Sauce         5   \n",
       "\n",
       "   department_id  \n",
       "0             19  \n",
       "1             13  \n",
       "2              7  \n",
       "3              1  \n",
       "4             13  "
      ]
     },
     "execution_count": 3,
     "metadata": {},
     "output_type": "execute_result"
    }
   ],
   "source": [
    "zf = zipfile.ZipFile('/kaggle/input/instacart-market-basket-analysis/products.csv.zip') \n",
    "df_products = pd.read_csv(zf.open('products.csv'))\n",
    "\n",
    "df_products.head()"
   ]
  },
  {
   "cell_type": "code",
   "execution_count": 4,
   "id": "2ecb732a",
   "metadata": {
    "execution": {
     "iopub.execute_input": "2023-12-12T18:24:56.435005Z",
     "iopub.status.busy": "2023-12-12T18:24:56.434422Z",
     "iopub.status.idle": "2023-12-12T18:25:12.384713Z",
     "shell.execute_reply": "2023-12-12T18:25:12.383572Z"
    },
    "papermill": {
     "duration": 15.957823,
     "end_time": "2023-12-12T18:25:12.387054",
     "exception": false,
     "start_time": "2023-12-12T18:24:56.429231",
     "status": "completed"
    },
    "tags": []
   },
   "outputs": [
    {
     "name": "stdout",
     "output_type": "stream",
     "text": [
      "orders -- dimensions: (32434489, 4);   size: 1037.90 MB\n"
     ]
    },
    {
     "data": {
      "text/html": [
       "<div>\n",
       "<style scoped>\n",
       "    .dataframe tbody tr th:only-of-type {\n",
       "        vertical-align: middle;\n",
       "    }\n",
       "\n",
       "    .dataframe tbody tr th {\n",
       "        vertical-align: top;\n",
       "    }\n",
       "\n",
       "    .dataframe thead th {\n",
       "        text-align: right;\n",
       "    }\n",
       "</style>\n",
       "<table border=\"1\" class=\"dataframe\">\n",
       "  <thead>\n",
       "    <tr style=\"text-align: right;\">\n",
       "      <th></th>\n",
       "      <th>order_id</th>\n",
       "      <th>product_id</th>\n",
       "      <th>add_to_cart_order</th>\n",
       "      <th>reordered</th>\n",
       "    </tr>\n",
       "  </thead>\n",
       "  <tbody>\n",
       "    <tr>\n",
       "      <th>0</th>\n",
       "      <td>2</td>\n",
       "      <td>33120</td>\n",
       "      <td>1</td>\n",
       "      <td>1</td>\n",
       "    </tr>\n",
       "    <tr>\n",
       "      <th>1</th>\n",
       "      <td>2</td>\n",
       "      <td>28985</td>\n",
       "      <td>2</td>\n",
       "      <td>1</td>\n",
       "    </tr>\n",
       "    <tr>\n",
       "      <th>2</th>\n",
       "      <td>2</td>\n",
       "      <td>9327</td>\n",
       "      <td>3</td>\n",
       "      <td>0</td>\n",
       "    </tr>\n",
       "    <tr>\n",
       "      <th>3</th>\n",
       "      <td>2</td>\n",
       "      <td>45918</td>\n",
       "      <td>4</td>\n",
       "      <td>1</td>\n",
       "    </tr>\n",
       "    <tr>\n",
       "      <th>4</th>\n",
       "      <td>2</td>\n",
       "      <td>30035</td>\n",
       "      <td>5</td>\n",
       "      <td>0</td>\n",
       "    </tr>\n",
       "  </tbody>\n",
       "</table>\n",
       "</div>"
      ],
      "text/plain": [
       "   order_id  product_id  add_to_cart_order  reordered\n",
       "0         2       33120                  1          1\n",
       "1         2       28985                  2          1\n",
       "2         2        9327                  3          0\n",
       "3         2       45918                  4          1\n",
       "4         2       30035                  5          0"
      ]
     },
     "metadata": {},
     "output_type": "display_data"
    }
   ],
   "source": [
    "import zipfile\n",
    "\n",
    "zf = zipfile.ZipFile('/kaggle/input/instacart-market-basket-analysis/order_products__prior.csv.zip') \n",
    "orders = pd.read_csv(zf.open('order_products__prior.csv'))\n",
    "print('orders -- dimensions: {0};   size: {1}'.format(orders.shape, size(orders)))\n",
    "display(orders.head())"
   ]
  },
  {
   "cell_type": "code",
   "execution_count": 5,
   "id": "cd3d4422",
   "metadata": {
    "execution": {
     "iopub.execute_input": "2023-12-12T18:25:12.398393Z",
     "iopub.status.busy": "2023-12-12T18:25:12.398034Z",
     "iopub.status.idle": "2023-12-12T18:25:12.859260Z",
     "shell.execute_reply": "2023-12-12T18:25:12.858367Z"
    },
    "papermill": {
     "duration": 0.469337,
     "end_time": "2023-12-12T18:25:12.861272",
     "exception": false,
     "start_time": "2023-12-12T18:25:12.391935",
     "status": "completed"
    },
    "tags": []
   },
   "outputs": [
    {
     "data": {
      "text/plain": [
       "order_id\n",
       "2    33120\n",
       "2    28985\n",
       "2     9327\n",
       "2    45918\n",
       "2    30035\n",
       "2    17794\n",
       "2    40141\n",
       "2     1819\n",
       "2    43668\n",
       "3    33754\n",
       "Name: item_id, dtype: int64"
      ]
     },
     "metadata": {},
     "output_type": "display_data"
    },
    {
     "data": {
      "text/plain": [
       "pandas.core.series.Series"
      ]
     },
     "execution_count": 5,
     "metadata": {},
     "output_type": "execute_result"
    }
   ],
   "source": [
    "# Convert from DataFrame to a Series, with order_id as index and item_id as value\n",
    "orders = orders.set_index('order_id')['product_id'].rename('item_id')\n",
    "display(orders.head(10))\n",
    "type(orders)"
   ]
  },
  {
   "cell_type": "code",
   "execution_count": 6,
   "id": "b6f2b25d",
   "metadata": {
    "_cell_guid": "b1076dfc-b9ad-4769-8c92-a6c4dae69d19",
    "_uuid": "8f2839f25d086af736a60e9eeb907d3b93b6e0e5",
    "execution": {
     "iopub.execute_input": "2023-12-12T18:25:12.872272Z",
     "iopub.status.busy": "2023-12-12T18:25:12.872005Z",
     "iopub.status.idle": "2023-12-12T18:25:14.619043Z",
     "shell.execute_reply": "2023-12-12T18:25:14.618093Z"
    },
    "papermill": {
     "duration": 1.754882,
     "end_time": "2023-12-12T18:25:14.621156",
     "exception": false,
     "start_time": "2023-12-12T18:25:12.866274",
     "status": "completed"
    },
    "tags": []
   },
   "outputs": [
    {
     "name": "stdout",
     "output_type": "stream",
     "text": [
      "dimensions: (32434489,);   size: 518.95 MB;   unique_orders: 3214874;   unique_items: 49677\n"
     ]
    }
   ],
   "source": [
    "print('dimensions: {0};   size: {1};   unique_orders: {2};   unique_items: {3}'\n",
    "      .format(orders.shape, size(orders), len(orders.index.unique()), len(orders.value_counts())))"
   ]
  },
  {
   "cell_type": "code",
   "execution_count": 7,
   "id": "f968326b",
   "metadata": {
    "execution": {
     "iopub.execute_input": "2023-12-12T18:25:14.632469Z",
     "iopub.status.busy": "2023-12-12T18:25:14.632179Z",
     "iopub.status.idle": "2023-12-12T18:25:14.642579Z",
     "shell.execute_reply": "2023-12-12T18:25:14.641874Z"
    },
    "papermill": {
     "duration": 0.018057,
     "end_time": "2023-12-12T18:25:14.644387",
     "exception": false,
     "start_time": "2023-12-12T18:25:14.626330",
     "status": "completed"
    },
    "tags": []
   },
   "outputs": [],
   "source": [
    "# Returns frequency counts for items and item pairs\n",
    "def freq(iterable):\n",
    "    if type(iterable) == pd.core.series.Series:\n",
    "        return iterable.value_counts().rename(\"freq\")\n",
    "    else: \n",
    "        return pd.Series(Counter(iterable)).rename(\"freq\")\n",
    "\n",
    "    \n",
    "# Returns number of unique orders\n",
    "def order_count(order_item):\n",
    "    return len(set(order_item.index))\n",
    "\n",
    "\n",
    "# Returns generator that yields item pairs, one at a time\n",
    "def get_item_pairs(order_item):\n",
    "    order_item = order_item.reset_index().values\n",
    "    for order_id, order_object in groupby(order_item, lambda x: x[0]):\n",
    "        item_list = [item[1] for item in order_object]\n",
    "              \n",
    "        for item_pair in combinations(item_list, 2):\n",
    "            yield item_pair\n",
    "            \n",
    "\n",
    "# Returns frequency and support associated with item\n",
    "def merge_item_stats(item_pairs, item_stats):\n",
    "    return (item_pairs\n",
    "                .merge(item_stats.rename(columns={'freq': 'freqA', 'support': 'supportA'}), left_on='item_A', right_index=True)\n",
    "                .merge(item_stats.rename(columns={'freq': 'freqB', 'support': 'supportB'}), left_on='item_B', right_index=True))\n",
    "\n",
    "\n",
    "# Returns name associated with item\n",
    "def merge_item_name(rules, item_name):\n",
    "    columns = ['itemA','itemB','freqAB','supportAB','freqA','supportA','freqB','supportB', \n",
    "               'confidenceAtoB','confidenceBtoA','lift']\n",
    "    rules = (rules\n",
    "                .merge(item_name.rename(columns={'item_name': 'itemA'}), left_on='item_A', right_on='item_id')\n",
    "                .merge(item_name.rename(columns={'item_name': 'itemB'}), left_on='item_B', right_on='item_id'))\n",
    "    return rules[columns]               "
   ]
  },
  {
   "cell_type": "code",
   "execution_count": 8,
   "id": "6b5019a8",
   "metadata": {
    "execution": {
     "iopub.execute_input": "2023-12-12T18:25:14.655441Z",
     "iopub.status.busy": "2023-12-12T18:25:14.655182Z",
     "iopub.status.idle": "2023-12-12T18:25:14.666284Z",
     "shell.execute_reply": "2023-12-12T18:25:14.665423Z"
    },
    "papermill": {
     "duration": 0.01879,
     "end_time": "2023-12-12T18:25:14.668148",
     "exception": false,
     "start_time": "2023-12-12T18:25:14.649358",
     "status": "completed"
    },
    "tags": []
   },
   "outputs": [],
   "source": [
    "def association_rules(order_item, min_support):\n",
    "\n",
    "    print(\"Starting order_item: {:22d}\".format(len(order_item)))\n",
    "\n",
    "\n",
    "    # Calculate item frequency and support\n",
    "    item_stats             = freq(order_item).to_frame(\"freq\")\n",
    "    item_stats['support']  = item_stats['freq'] / order_count(order_item) * 100\n",
    "\n",
    "\n",
    "    # Filter from order_item items below min support \n",
    "    qualifying_items       = item_stats[item_stats['support'] >= min_support].index\n",
    "    order_item             = order_item[order_item.isin(qualifying_items)]\n",
    "\n",
    "    print(\"Items with support >= {}: {:15d}\".format(min_support, len(qualifying_items)))\n",
    "    print(\"Remaining order_item: {:21d}\".format(len(order_item)))\n",
    "\n",
    "\n",
    "    # Filter from order_item orders with less than 2 items\n",
    "    order_size             = freq(order_item.index)\n",
    "    qualifying_orders      = order_size[order_size >= 2].index\n",
    "    order_item             = order_item[order_item.index.isin(qualifying_orders)]\n",
    "\n",
    "    print(\"Remaining orders with 2+ items: {:11d}\".format(len(qualifying_orders)))\n",
    "    print(\"Remaining order_item: {:21d}\".format(len(order_item)))\n",
    "\n",
    "\n",
    "    # Recalculate item frequency and support\n",
    "    item_stats             = freq(order_item).to_frame(\"freq\")\n",
    "    item_stats['support']  = item_stats['freq'] / order_count(order_item) * 100\n",
    "\n",
    "\n",
    "    # Get item pairs generator\n",
    "    item_pair_gen          = get_item_pairs(order_item)\n",
    "\n",
    "\n",
    "    # Calculate item pair frequency and support\n",
    "    item_pairs              = freq(item_pair_gen).to_frame(\"freqAB\")\n",
    "    item_pairs['supportAB'] = item_pairs['freqAB'] / len(qualifying_orders) * 100\n",
    "\n",
    "    print(\"Item pairs: {:31d}\".format(len(item_pairs)))\n",
    "\n",
    "\n",
    "    # Filter from item_pairs those below min support\n",
    "    item_pairs              = item_pairs[item_pairs['supportAB'] >= min_support]\n",
    "\n",
    "    print(\"Item pairs with support >= {}: {:10d}\\n\".format(min_support, len(item_pairs)))\n",
    "\n",
    "\n",
    "    # Create table of association rules and compute relevant metrics\n",
    "    item_pairs = item_pairs.reset_index().rename(columns={'level_0': 'item_A', 'level_1': 'item_B'})\n",
    "    item_pairs = merge_item_stats(item_pairs, item_stats)\n",
    "    \n",
    "    item_pairs['confidenceAtoB'] = item_pairs['supportAB'] / item_pairs['supportA']\n",
    "    item_pairs['confidenceBtoA'] = item_pairs['supportAB'] / item_pairs['supportB']\n",
    "    item_pairs['lift']           = item_pairs['supportAB'] / (item_pairs['supportA'] * item_pairs['supportB'])\n",
    "    \n",
    "    \n",
    "    # Return association rules sorted by lift in descending order\n",
    "    return item_pairs.sort_values('lift', ascending=False)"
   ]
  },
  {
   "cell_type": "code",
   "execution_count": 9,
   "id": "f3780999",
   "metadata": {
    "execution": {
     "iopub.execute_input": "2023-12-12T18:25:14.679299Z",
     "iopub.status.busy": "2023-12-12T18:25:14.679040Z",
     "iopub.status.idle": "2023-12-12T18:34:42.334240Z",
     "shell.execute_reply": "2023-12-12T18:34:42.333274Z"
    },
    "papermill": {
     "duration": 567.66816,
     "end_time": "2023-12-12T18:34:42.341359",
     "exception": false,
     "start_time": "2023-12-12T18:25:14.673199",
     "status": "completed"
    },
    "tags": []
   },
   "outputs": [
    {
     "name": "stdout",
     "output_type": "stream",
     "text": [
      "Starting order_item:               32434489\n",
      "Items with support >= 0.01:           10906\n",
      "Remaining order_item:              29843570\n",
      "Remaining orders with 2+ items:     3013325\n",
      "Remaining order_item:              29662716\n",
      "Item pairs:                        30622410\n",
      "Item pairs with support >= 0.01:      48751\n",
      "\n",
      "CPU times: user 9min 21s, sys: 8.12 s, total: 9min 29s\n",
      "Wall time: 9min 27s\n"
     ]
    }
   ],
   "source": [
    "%%time\n",
    "rules = association_rules(orders, 0.01)  "
   ]
  },
  {
   "cell_type": "code",
   "execution_count": 10,
   "id": "ce0da626",
   "metadata": {
    "execution": {
     "iopub.execute_input": "2023-12-12T18:34:42.353465Z",
     "iopub.status.busy": "2023-12-12T18:34:42.353148Z",
     "iopub.status.idle": "2023-12-12T18:34:42.477327Z",
     "shell.execute_reply": "2023-12-12T18:34:42.476444Z"
    },
    "papermill": {
     "duration": 0.132654,
     "end_time": "2023-12-12T18:34:42.479485",
     "exception": false,
     "start_time": "2023-12-12T18:34:42.346831",
     "status": "completed"
    },
    "tags": []
   },
   "outputs": [
    {
     "data": {
      "text/html": [
       "<div>\n",
       "<style scoped>\n",
       "    .dataframe tbody tr th:only-of-type {\n",
       "        vertical-align: middle;\n",
       "    }\n",
       "\n",
       "    .dataframe tbody tr th {\n",
       "        vertical-align: top;\n",
       "    }\n",
       "\n",
       "    .dataframe thead th {\n",
       "        text-align: right;\n",
       "    }\n",
       "</style>\n",
       "<table border=\"1\" class=\"dataframe\">\n",
       "  <thead>\n",
       "    <tr style=\"text-align: right;\">\n",
       "      <th></th>\n",
       "      <th>itemA</th>\n",
       "      <th>itemB</th>\n",
       "      <th>freqAB</th>\n",
       "      <th>supportAB</th>\n",
       "      <th>freqA</th>\n",
       "      <th>supportA</th>\n",
       "      <th>freqB</th>\n",
       "      <th>supportB</th>\n",
       "      <th>confidenceAtoB</th>\n",
       "      <th>confidenceBtoA</th>\n",
       "      <th>lift</th>\n",
       "    </tr>\n",
       "  </thead>\n",
       "  <tbody>\n",
       "    <tr>\n",
       "      <th>0</th>\n",
       "      <td>Organic Strawberry Chia Lowfat 2% Cottage Cheese</td>\n",
       "      <td>Organic Cottage Cheese Blueberry Acai Chia</td>\n",
       "      <td>306</td>\n",
       "      <td>0.010155</td>\n",
       "      <td>1163</td>\n",
       "      <td>0.038595</td>\n",
       "      <td>839</td>\n",
       "      <td>0.027843</td>\n",
       "      <td>0.263113</td>\n",
       "      <td>0.364720</td>\n",
       "      <td>9.449868</td>\n",
       "    </tr>\n",
       "    <tr>\n",
       "      <th>1</th>\n",
       "      <td>Grain Free Chicken Formula Cat Food</td>\n",
       "      <td>Grain Free Turkey Formula Cat Food</td>\n",
       "      <td>318</td>\n",
       "      <td>0.010553</td>\n",
       "      <td>1809</td>\n",
       "      <td>0.060033</td>\n",
       "      <td>879</td>\n",
       "      <td>0.029170</td>\n",
       "      <td>0.175788</td>\n",
       "      <td>0.361775</td>\n",
       "      <td>6.026229</td>\n",
       "    </tr>\n",
       "    <tr>\n",
       "      <th>3</th>\n",
       "      <td>Organic Fruit Yogurt Smoothie Mixed Berry</td>\n",
       "      <td>Apple Blueberry Fruit Yogurt Smoothie</td>\n",
       "      <td>349</td>\n",
       "      <td>0.011582</td>\n",
       "      <td>1518</td>\n",
       "      <td>0.050376</td>\n",
       "      <td>1249</td>\n",
       "      <td>0.041449</td>\n",
       "      <td>0.229908</td>\n",
       "      <td>0.279424</td>\n",
       "      <td>5.546732</td>\n",
       "    </tr>\n",
       "    <tr>\n",
       "      <th>9</th>\n",
       "      <td>Nonfat Strawberry With Fruit On The Bottom Gre...</td>\n",
       "      <td>0% Greek, Blueberry on the Bottom Yogurt</td>\n",
       "      <td>409</td>\n",
       "      <td>0.013573</td>\n",
       "      <td>1666</td>\n",
       "      <td>0.055288</td>\n",
       "      <td>1391</td>\n",
       "      <td>0.046162</td>\n",
       "      <td>0.245498</td>\n",
       "      <td>0.294033</td>\n",
       "      <td>5.318230</td>\n",
       "    </tr>\n",
       "    <tr>\n",
       "      <th>10</th>\n",
       "      <td>Organic Grapefruit Ginger Sparkling Yerba Mate</td>\n",
       "      <td>Cranberry Pomegranate Sparkling Yerba Mate</td>\n",
       "      <td>351</td>\n",
       "      <td>0.011648</td>\n",
       "      <td>1731</td>\n",
       "      <td>0.057445</td>\n",
       "      <td>1149</td>\n",
       "      <td>0.038131</td>\n",
       "      <td>0.202773</td>\n",
       "      <td>0.305483</td>\n",
       "      <td>5.317849</td>\n",
       "    </tr>\n",
       "    <tr>\n",
       "      <th>...</th>\n",
       "      <td>...</td>\n",
       "      <td>...</td>\n",
       "      <td>...</td>\n",
       "      <td>...</td>\n",
       "      <td>...</td>\n",
       "      <td>...</td>\n",
       "      <td>...</td>\n",
       "      <td>...</td>\n",
       "      <td>...</td>\n",
       "      <td>...</td>\n",
       "      <td>...</td>\n",
       "    </tr>\n",
       "    <tr>\n",
       "      <th>7271</th>\n",
       "      <td>Organic Strawberries</td>\n",
       "      <td>Strawberries</td>\n",
       "      <td>640</td>\n",
       "      <td>0.021239</td>\n",
       "      <td>263416</td>\n",
       "      <td>8.741706</td>\n",
       "      <td>141805</td>\n",
       "      <td>4.705931</td>\n",
       "      <td>0.002430</td>\n",
       "      <td>0.004513</td>\n",
       "      <td>0.000516</td>\n",
       "    </tr>\n",
       "    <tr>\n",
       "      <th>6763</th>\n",
       "      <td>Organic Hass Avocado</td>\n",
       "      <td>Organic Avocado</td>\n",
       "      <td>464</td>\n",
       "      <td>0.015398</td>\n",
       "      <td>212785</td>\n",
       "      <td>7.061469</td>\n",
       "      <td>176241</td>\n",
       "      <td>5.848722</td>\n",
       "      <td>0.002181</td>\n",
       "      <td>0.002633</td>\n",
       "      <td>0.000373</td>\n",
       "    </tr>\n",
       "    <tr>\n",
       "      <th>4387</th>\n",
       "      <td>Organic Avocado</td>\n",
       "      <td>Organic Hass Avocado</td>\n",
       "      <td>443</td>\n",
       "      <td>0.014701</td>\n",
       "      <td>176241</td>\n",
       "      <td>5.848722</td>\n",
       "      <td>212785</td>\n",
       "      <td>7.061469</td>\n",
       "      <td>0.002514</td>\n",
       "      <td>0.002082</td>\n",
       "      <td>0.000356</td>\n",
       "    </tr>\n",
       "    <tr>\n",
       "      <th>2596</th>\n",
       "      <td>Banana</td>\n",
       "      <td>Bag of Organic Bananas</td>\n",
       "      <td>654</td>\n",
       "      <td>0.021704</td>\n",
       "      <td>470096</td>\n",
       "      <td>15.600574</td>\n",
       "      <td>376367</td>\n",
       "      <td>12.490090</td>\n",
       "      <td>0.001391</td>\n",
       "      <td>0.001738</td>\n",
       "      <td>0.000111</td>\n",
       "    </tr>\n",
       "    <tr>\n",
       "      <th>670</th>\n",
       "      <td>Bag of Organic Bananas</td>\n",
       "      <td>Banana</td>\n",
       "      <td>522</td>\n",
       "      <td>0.017323</td>\n",
       "      <td>376367</td>\n",
       "      <td>12.490090</td>\n",
       "      <td>470096</td>\n",
       "      <td>15.600574</td>\n",
       "      <td>0.001387</td>\n",
       "      <td>0.001110</td>\n",
       "      <td>0.000089</td>\n",
       "    </tr>\n",
       "  </tbody>\n",
       "</table>\n",
       "<p>48751 rows × 11 columns</p>\n",
       "</div>"
      ],
      "text/plain": [
       "                                                  itemA  \\\n",
       "0      Organic Strawberry Chia Lowfat 2% Cottage Cheese   \n",
       "1                   Grain Free Chicken Formula Cat Food   \n",
       "3             Organic Fruit Yogurt Smoothie Mixed Berry   \n",
       "9     Nonfat Strawberry With Fruit On The Bottom Gre...   \n",
       "10       Organic Grapefruit Ginger Sparkling Yerba Mate   \n",
       "...                                                 ...   \n",
       "7271                               Organic Strawberries   \n",
       "6763                               Organic Hass Avocado   \n",
       "4387                                    Organic Avocado   \n",
       "2596                                             Banana   \n",
       "670                              Bag of Organic Bananas   \n",
       "\n",
       "                                           itemB  freqAB  supportAB   freqA  \\\n",
       "0     Organic Cottage Cheese Blueberry Acai Chia     306   0.010155    1163   \n",
       "1             Grain Free Turkey Formula Cat Food     318   0.010553    1809   \n",
       "3          Apple Blueberry Fruit Yogurt Smoothie     349   0.011582    1518   \n",
       "9       0% Greek, Blueberry on the Bottom Yogurt     409   0.013573    1666   \n",
       "10    Cranberry Pomegranate Sparkling Yerba Mate     351   0.011648    1731   \n",
       "...                                          ...     ...        ...     ...   \n",
       "7271                                Strawberries     640   0.021239  263416   \n",
       "6763                             Organic Avocado     464   0.015398  212785   \n",
       "4387                        Organic Hass Avocado     443   0.014701  176241   \n",
       "2596                      Bag of Organic Bananas     654   0.021704  470096   \n",
       "670                                       Banana     522   0.017323  376367   \n",
       "\n",
       "       supportA   freqB   supportB  confidenceAtoB  confidenceBtoA      lift  \n",
       "0      0.038595     839   0.027843        0.263113        0.364720  9.449868  \n",
       "1      0.060033     879   0.029170        0.175788        0.361775  6.026229  \n",
       "3      0.050376    1249   0.041449        0.229908        0.279424  5.546732  \n",
       "9      0.055288    1391   0.046162        0.245498        0.294033  5.318230  \n",
       "10     0.057445    1149   0.038131        0.202773        0.305483  5.317849  \n",
       "...         ...     ...        ...             ...             ...       ...  \n",
       "7271   8.741706  141805   4.705931        0.002430        0.004513  0.000516  \n",
       "6763   7.061469  176241   5.848722        0.002181        0.002633  0.000373  \n",
       "4387   5.848722  212785   7.061469        0.002514        0.002082  0.000356  \n",
       "2596  15.600574  376367  12.490090        0.001391        0.001738  0.000111  \n",
       "670   12.490090  470096  15.600574        0.001387        0.001110  0.000089  \n",
       "\n",
       "[48751 rows x 11 columns]"
      ]
     },
     "metadata": {},
     "output_type": "display_data"
    }
   ],
   "source": [
    "zf = zipfile.ZipFile('/kaggle/input/instacart-market-basket-analysis/products.csv.zip') \n",
    "item_name = pd.read_csv(zf.open('products.csv'))\n",
    "# Replace item ID with item name and display association rules\n",
    "item_name   = item_name.rename(columns={'product_id':'item_id', 'product_name':'item_name'})\n",
    "rules_final = merge_item_name(rules, item_name).sort_values('lift', ascending=False)\n",
    "display(rules_final)"
   ]
  },
  {
   "cell_type": "code",
   "execution_count": null,
   "id": "ca246a54",
   "metadata": {
    "papermill": {
     "duration": 0.006591,
     "end_time": "2023-12-12T18:34:42.492205",
     "exception": false,
     "start_time": "2023-12-12T18:34:42.485614",
     "status": "completed"
    },
    "tags": []
   },
   "outputs": [],
   "source": []
  },
  {
   "cell_type": "code",
   "execution_count": null,
   "id": "02a57b27",
   "metadata": {
    "papermill": {
     "duration": 0.005609,
     "end_time": "2023-12-12T18:34:42.503556",
     "exception": false,
     "start_time": "2023-12-12T18:34:42.497947",
     "status": "completed"
    },
    "tags": []
   },
   "outputs": [],
   "source": []
  },
  {
   "cell_type": "code",
   "execution_count": null,
   "id": "8e2465d5",
   "metadata": {
    "papermill": {
     "duration": 0.005679,
     "end_time": "2023-12-12T18:34:42.515087",
     "exception": false,
     "start_time": "2023-12-12T18:34:42.509408",
     "status": "completed"
    },
    "tags": []
   },
   "outputs": [],
   "source": []
  },
  {
   "cell_type": "code",
   "execution_count": null,
   "id": "c57677a4",
   "metadata": {
    "papermill": {
     "duration": 0.005533,
     "end_time": "2023-12-12T18:34:42.526464",
     "exception": false,
     "start_time": "2023-12-12T18:34:42.520931",
     "status": "completed"
    },
    "tags": []
   },
   "outputs": [],
   "source": []
  },
  {
   "cell_type": "code",
   "execution_count": null,
   "id": "04a29c9a",
   "metadata": {
    "papermill": {
     "duration": 0.005578,
     "end_time": "2023-12-12T18:34:42.537735",
     "exception": false,
     "start_time": "2023-12-12T18:34:42.532157",
     "status": "completed"
    },
    "tags": []
   },
   "outputs": [],
   "source": []
  }
 ],
 "metadata": {
  "kaggle": {
   "accelerator": "gpu",
   "dataSources": [
    {
     "databundleVersionId": 44315,
     "sourceId": 6644,
     "sourceType": "competition"
    },
    {
     "datasetId": 877335,
     "sourceId": 1494131,
     "sourceType": "datasetVersion"
    }
   ],
   "dockerImageVersionId": 30579,
   "isGpuEnabled": true,
   "isInternetEnabled": true,
   "language": "python",
   "sourceType": "notebook"
  },
  "kernelspec": {
   "display_name": "Python 3",
   "language": "python",
   "name": "python3"
  },
  "language_info": {
   "codemirror_mode": {
    "name": "ipython",
    "version": 3
   },
   "file_extension": ".py",
   "mimetype": "text/x-python",
   "name": "python",
   "nbconvert_exporter": "python",
   "pygments_lexer": "ipython3",
   "version": "3.10.12"
  },
  "papermill": {
   "default_parameters": {},
   "duration": 590.828349,
   "end_time": "2023-12-12T18:34:42.862598",
   "environment_variables": {},
   "exception": null,
   "input_path": "__notebook__.ipynb",
   "output_path": "__notebook__.ipynb",
   "parameters": {},
   "start_time": "2023-12-12T18:24:52.034249",
   "version": "2.4.0"
  }
 },
 "nbformat": 4,
 "nbformat_minor": 5
}
