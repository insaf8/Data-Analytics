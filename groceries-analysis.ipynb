{
 "cells": [
  {
   "cell_type": "code",
   "execution_count": 1,
   "id": "cfdada0e",
   "metadata": {
    "execution": {
     "iopub.execute_input": "2023-12-12T17:36:27.597941Z",
     "iopub.status.busy": "2023-12-12T17:36:27.597180Z",
     "iopub.status.idle": "2023-12-12T17:36:28.731238Z",
     "shell.execute_reply": "2023-12-12T17:36:28.730249Z"
    },
    "papermill": {
     "duration": 1.14362,
     "end_time": "2023-12-12T17:36:28.734275",
     "exception": false,
     "start_time": "2023-12-12T17:36:27.590655",
     "status": "completed"
    },
    "tags": []
   },
   "outputs": [],
   "source": [
    "import pandas as pd\n",
    "from mlxtend.frequent_patterns import apriori\n",
    "from mlxtend.frequent_patterns import association_rules"
   ]
  },
  {
   "cell_type": "code",
   "execution_count": 2,
   "id": "a10ba054",
   "metadata": {
    "execution": {
     "iopub.execute_input": "2023-12-12T17:36:28.744204Z",
     "iopub.status.busy": "2023-12-12T17:36:28.743655Z",
     "iopub.status.idle": "2023-12-12T17:36:28.835185Z",
     "shell.execute_reply": "2023-12-12T17:36:28.833802Z"
    },
    "papermill": {
     "duration": 0.099734,
     "end_time": "2023-12-12T17:36:28.838280",
     "exception": false,
     "start_time": "2023-12-12T17:36:28.738546",
     "status": "completed"
    },
    "tags": []
   },
   "outputs": [],
   "source": [
    "df=pd.read_csv(\"/kaggle/input/groceries-dataset/Groceries_dataset.csv\")\n",
    "df = df.drop('Date', axis=1)"
   ]
  },
  {
   "cell_type": "code",
   "execution_count": 3,
   "id": "1b551576",
   "metadata": {
    "execution": {
     "iopub.execute_input": "2023-12-12T17:36:28.847900Z",
     "iopub.status.busy": "2023-12-12T17:36:28.847473Z",
     "iopub.status.idle": "2023-12-12T17:36:28.865616Z",
     "shell.execute_reply": "2023-12-12T17:36:28.864476Z"
    },
    "papermill": {
     "duration": 0.026001,
     "end_time": "2023-12-12T17:36:28.868275",
     "exception": false,
     "start_time": "2023-12-12T17:36:28.842274",
     "status": "completed"
    },
    "tags": []
   },
   "outputs": [
    {
     "data": {
      "text/html": [
       "<div>\n",
       "<style scoped>\n",
       "    .dataframe tbody tr th:only-of-type {\n",
       "        vertical-align: middle;\n",
       "    }\n",
       "\n",
       "    .dataframe tbody tr th {\n",
       "        vertical-align: top;\n",
       "    }\n",
       "\n",
       "    .dataframe thead th {\n",
       "        text-align: right;\n",
       "    }\n",
       "</style>\n",
       "<table border=\"1\" class=\"dataframe\">\n",
       "  <thead>\n",
       "    <tr style=\"text-align: right;\">\n",
       "      <th></th>\n",
       "      <th>Member_number</th>\n",
       "      <th>itemDescription</th>\n",
       "    </tr>\n",
       "  </thead>\n",
       "  <tbody>\n",
       "    <tr>\n",
       "      <th>0</th>\n",
       "      <td>1808</td>\n",
       "      <td>tropical fruit</td>\n",
       "    </tr>\n",
       "    <tr>\n",
       "      <th>1</th>\n",
       "      <td>2552</td>\n",
       "      <td>whole milk</td>\n",
       "    </tr>\n",
       "    <tr>\n",
       "      <th>2</th>\n",
       "      <td>2300</td>\n",
       "      <td>pip fruit</td>\n",
       "    </tr>\n",
       "    <tr>\n",
       "      <th>3</th>\n",
       "      <td>1187</td>\n",
       "      <td>other vegetables</td>\n",
       "    </tr>\n",
       "    <tr>\n",
       "      <th>4</th>\n",
       "      <td>3037</td>\n",
       "      <td>whole milk</td>\n",
       "    </tr>\n",
       "    <tr>\n",
       "      <th>...</th>\n",
       "      <td>...</td>\n",
       "      <td>...</td>\n",
       "    </tr>\n",
       "    <tr>\n",
       "      <th>38760</th>\n",
       "      <td>4471</td>\n",
       "      <td>sliced cheese</td>\n",
       "    </tr>\n",
       "    <tr>\n",
       "      <th>38761</th>\n",
       "      <td>2022</td>\n",
       "      <td>candy</td>\n",
       "    </tr>\n",
       "    <tr>\n",
       "      <th>38762</th>\n",
       "      <td>1097</td>\n",
       "      <td>cake bar</td>\n",
       "    </tr>\n",
       "    <tr>\n",
       "      <th>38763</th>\n",
       "      <td>1510</td>\n",
       "      <td>fruit/vegetable juice</td>\n",
       "    </tr>\n",
       "    <tr>\n",
       "      <th>38764</th>\n",
       "      <td>1521</td>\n",
       "      <td>cat food</td>\n",
       "    </tr>\n",
       "  </tbody>\n",
       "</table>\n",
       "<p>38765 rows × 2 columns</p>\n",
       "</div>"
      ],
      "text/plain": [
       "       Member_number        itemDescription\n",
       "0               1808         tropical fruit\n",
       "1               2552             whole milk\n",
       "2               2300              pip fruit\n",
       "3               1187       other vegetables\n",
       "4               3037             whole milk\n",
       "...              ...                    ...\n",
       "38760           4471          sliced cheese\n",
       "38761           2022                  candy\n",
       "38762           1097               cake bar\n",
       "38763           1510  fruit/vegetable juice\n",
       "38764           1521               cat food\n",
       "\n",
       "[38765 rows x 2 columns]"
      ]
     },
     "execution_count": 3,
     "metadata": {},
     "output_type": "execute_result"
    }
   ],
   "source": [
    "df"
   ]
  },
  {
   "cell_type": "code",
   "execution_count": 4,
   "id": "ef36dea0",
   "metadata": {
    "execution": {
     "iopub.execute_input": "2023-12-12T17:36:28.878470Z",
     "iopub.status.busy": "2023-12-12T17:36:28.878077Z",
     "iopub.status.idle": "2023-12-12T17:36:28.886370Z",
     "shell.execute_reply": "2023-12-12T17:36:28.885115Z"
    },
    "papermill": {
     "duration": 0.017082,
     "end_time": "2023-12-12T17:36:28.889565",
     "exception": false,
     "start_time": "2023-12-12T17:36:28.872483",
     "status": "completed"
    },
    "tags": []
   },
   "outputs": [
    {
     "data": {
      "text/plain": [
       "<pandas.core.groupby.generic.DataFrameGroupBy object at 0x7f0db50b8c70>"
      ]
     },
     "execution_count": 4,
     "metadata": {},
     "output_type": "execute_result"
    }
   ],
   "source": [
    "df.groupby('Member_number')"
   ]
  },
  {
   "cell_type": "code",
   "execution_count": 5,
   "id": "6087feb7",
   "metadata": {
    "execution": {
     "iopub.execute_input": "2023-12-12T17:36:28.900667Z",
     "iopub.status.busy": "2023-12-12T17:36:28.900266Z",
     "iopub.status.idle": "2023-12-12T17:36:30.213397Z",
     "shell.execute_reply": "2023-12-12T17:36:30.211324Z"
    },
    "papermill": {
     "duration": 1.323666,
     "end_time": "2023-12-12T17:36:30.217834",
     "exception": false,
     "start_time": "2023-12-12T17:36:28.894168",
     "status": "completed"
    },
    "tags": []
   },
   "outputs": [
    {
     "name": "stdout",
     "output_type": "stream",
     "text": [
      "itemDescription  Member_number  Instant food products  UHT-milk  \\\n",
      "0                         1000                      0         0   \n",
      "1                         1001                      0         0   \n",
      "2                         1002                      0         0   \n",
      "3                         1003                      0         0   \n",
      "4                         1004                      0         0   \n",
      "\n",
      "itemDescription  abrasive cleaner  artif. sweetener  baby cosmetics  bags  \\\n",
      "0                               0                 0               0     0   \n",
      "1                               0                 0               0     0   \n",
      "2                               0                 0               0     0   \n",
      "3                               0                 0               0     0   \n",
      "4                               0                 0               0     0   \n",
      "\n",
      "itemDescription  baking powder  bathroom cleaner  beef  ...  turkey  vinegar  \\\n",
      "0                            0                 0     0  ...       0        0   \n",
      "1                            0                 0     1  ...       0        0   \n",
      "2                            0                 0     0  ...       0        0   \n",
      "3                            0                 0     0  ...       0        0   \n",
      "4                            0                 0     0  ...       0        0   \n",
      "\n",
      "itemDescription  waffles  whipped/sour cream  whisky  white bread  white wine  \\\n",
      "0                      0                   0       0            0           0   \n",
      "1                      0                   1       0            1           0   \n",
      "2                      0                   0       0            0           0   \n",
      "3                      0                   0       0            0           0   \n",
      "4                      0                   0       0            0           0   \n",
      "\n",
      "itemDescription  whole milk  yogurt  zwieback  \n",
      "0                         1       1         0  \n",
      "1                         1       0         0  \n",
      "2                         1       0         0  \n",
      "3                         0       0         0  \n",
      "4                         1       0         0  \n",
      "\n",
      "[5 rows x 168 columns]\n"
     ]
    }
   ],
   "source": [
    "import pandas as pd\n",
    "\n",
    "# Assuming df is your original DataFrame\n",
    "# Assuming 'itemDescription' is the column with the item descriptions\n",
    "\n",
    "# Create a binary matrix indicating the presence or absence of each item in each transaction\n",
    "df = df.pivot_table(index='Member_number', columns='itemDescription', aggfunc=lambda x: 1, fill_value=0)\n",
    "\n",
    "# Reset the index to make 'Member_number' a column again\n",
    "df.reset_index(inplace=True)\n",
    "\n",
    "# Display the binary matrix\n",
    "print(df.head())\n"
   ]
  },
  {
   "cell_type": "code",
   "execution_count": 6,
   "id": "cdb3e9d4",
   "metadata": {
    "_cell_guid": "b1076dfc-b9ad-4769-8c92-a6c4dae69d19",
    "_uuid": "8f2839f25d086af736a60e9eeb907d3b93b6e0e5",
    "execution": {
     "iopub.execute_input": "2023-12-12T17:36:30.234429Z",
     "iopub.status.busy": "2023-12-12T17:36:30.234027Z",
     "iopub.status.idle": "2023-12-12T17:36:30.267770Z",
     "shell.execute_reply": "2023-12-12T17:36:30.265958Z"
    },
    "papermill": {
     "duration": 0.047574,
     "end_time": "2023-12-12T17:36:30.272362",
     "exception": false,
     "start_time": "2023-12-12T17:36:30.224788",
     "status": "completed"
    },
    "tags": []
   },
   "outputs": [
    {
     "name": "stderr",
     "output_type": "stream",
     "text": [
      "/opt/conda/lib/python3.10/site-packages/mlxtend/frequent_patterns/fpcommon.py:110: DeprecationWarning: DataFrames with non-bool types result in worse computationalperformance and their support might be discontinued in the future.Please use a DataFrame with bool type\n",
      "  warnings.warn(\n"
     ]
    }
   ],
   "source": [
    "from mlxtend.frequent_patterns import apriori\n",
    "from mlxtend.frequent_patterns import association_rules\n",
    "import numpy as np\n",
    "# Apply Apriori algorithm to find frequent itemsets\n",
    "frequent_itemsets = apriori(df.drop('Member_number', axis=1), min_support=0.15, use_colnames=True)\n",
    "\n",
    "# Generate association rules\n",
    "rules = association_rules(frequent_itemsets, metric=\"lift\", min_threshold=0.8)\n",
    "\n",
    "# Display the rules\n"
   ]
  },
  {
   "cell_type": "code",
   "execution_count": 7,
   "id": "3d9d1154",
   "metadata": {
    "execution": {
     "iopub.execute_input": "2023-12-12T17:36:30.284252Z",
     "iopub.status.busy": "2023-12-12T17:36:30.283841Z",
     "iopub.status.idle": "2023-12-12T17:36:30.319323Z",
     "shell.execute_reply": "2023-12-12T17:36:30.316147Z"
    },
    "papermill": {
     "duration": 0.047173,
     "end_time": "2023-12-12T17:36:30.324435",
     "exception": false,
     "start_time": "2023-12-12T17:36:30.277262",
     "status": "completed"
    },
    "tags": []
   },
   "outputs": [
    {
     "name": "stdout",
     "output_type": "stream",
     "text": [
      "          antecedents         consequents  antecedent support  \\\n",
      "0  (other vegetables)        (whole milk)            0.376603   \n",
      "1        (whole milk)  (other vegetables)            0.458184   \n",
      "2        (rolls/buns)        (whole milk)            0.349666   \n",
      "3        (whole milk)        (rolls/buns)            0.458184   \n",
      "4        (whole milk)              (soda)            0.458184   \n",
      "5              (soda)        (whole milk)            0.313494   \n",
      "6            (yogurt)        (whole milk)            0.282966   \n",
      "7        (whole milk)            (yogurt)            0.458184   \n",
      "\n",
      "   consequent support   support  confidence      lift  leverage  conviction  \\\n",
      "0            0.458184  0.191380    0.508174  1.109106  0.018827    1.101643   \n",
      "1            0.376603  0.191380    0.417693  1.109106  0.018827    1.070564   \n",
      "2            0.458184  0.178553    0.510638  1.114484  0.018342    1.107190   \n",
      "3            0.349666  0.178553    0.389698  1.114484  0.018342    1.065592   \n",
      "4            0.313494  0.151103    0.329787  1.051973  0.007465    1.024310   \n",
      "5            0.458184  0.151103    0.481997  1.051973  0.007465    1.045971   \n",
      "6            0.458184  0.150590    0.532185  1.161510  0.020940    1.158185   \n",
      "7            0.282966  0.150590    0.328667  1.161510  0.020940    1.068076   \n",
      "\n",
      "   zhangs_metric  \n",
      "0       0.157802  \n",
      "1       0.181562  \n",
      "2       0.157955  \n",
      "3       0.189591  \n",
      "4       0.091184  \n",
      "5       0.071966  \n",
      "6       0.193926  \n",
      "7       0.256640  \n"
     ]
    }
   ],
   "source": [
    "print(rules.head(60))"
   ]
  },
  {
   "cell_type": "code",
   "execution_count": null,
   "id": "70b316f1",
   "metadata": {
    "papermill": {
     "duration": 0.006519,
     "end_time": "2023-12-12T17:36:30.338030",
     "exception": false,
     "start_time": "2023-12-12T17:36:30.331511",
     "status": "completed"
    },
    "tags": []
   },
   "outputs": [],
   "source": []
  }
 ],
 "metadata": {
  "kaggle": {
   "accelerator": "none",
   "dataSources": [
    {
     "databundleVersionId": 44315,
     "sourceId": 6644,
     "sourceType": "competition"
    },
    {
     "datasetId": 877335,
     "sourceId": 1494131,
     "sourceType": "datasetVersion"
    }
   ],
   "dockerImageVersionId": 30579,
   "isGpuEnabled": false,
   "isInternetEnabled": true,
   "language": "python",
   "sourceType": "notebook"
  },
  "kernelspec": {
   "display_name": "Python 3",
   "language": "python",
   "name": "python3"
  },
  "language_info": {
   "codemirror_mode": {
    "name": "ipython",
    "version": 3
   },
   "file_extension": ".py",
   "mimetype": "text/x-python",
   "name": "python",
   "nbconvert_exporter": "python",
   "pygments_lexer": "ipython3",
   "version": "3.10.12"
  },
  "papermill": {
   "default_parameters": {},
   "duration": 7.530985,
   "end_time": "2023-12-12T17:36:30.867521",
   "environment_variables": {},
   "exception": null,
   "input_path": "__notebook__.ipynb",
   "output_path": "__notebook__.ipynb",
   "parameters": {},
   "start_time": "2023-12-12T17:36:23.336536",
   "version": "2.4.0"
  }
 },
 "nbformat": 4,
 "nbformat_minor": 5
}
